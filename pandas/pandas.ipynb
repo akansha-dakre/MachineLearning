{
  "nbformat": 4,
  "nbformat_minor": 0,
  "metadata": {
    "colab": {
      "name": "pandas.ipynb",
      "provenance": [],
      "authorship_tag": "ABX9TyP0eySAifVyllcwSakDK4Oq",
      "include_colab_link": true
    },
    "kernelspec": {
      "name": "python3",
      "display_name": "Python 3"
    },
    "language_info": {
      "name": "python"
    }
  },
  "cells": [
    {
      "cell_type": "markdown",
      "metadata": {
        "id": "view-in-github",
        "colab_type": "text"
      },
      "source": [
        "<a href=\"https://colab.research.google.com/github/akansha-dakre/MachineLearning/blob/main/pandas/pandas.ipynb\" target=\"_parent\"><img src=\"https://colab.research.google.com/assets/colab-badge.svg\" alt=\"Open In Colab\"/></a>"
      ]
    },
    {
      "cell_type": "code",
      "metadata": {
        "id": "hBQYaB1nGEbg"
      },
      "source": [
        "import pandas as pd\n"
      ],
      "execution_count": 2,
      "outputs": []
    },
    {
      "cell_type": "markdown",
      "metadata": {
        "id": "jotEmsidGPs4"
      },
      "source": [
        "**indexing**\n"
      ]
    },
    {
      "cell_type": "code",
      "metadata": {
        "colab": {
          "base_uri": "https://localhost:8080/"
        },
        "id": "6CiO_fd_GVOp",
        "outputId": "dfd53609-2f96-4570-a0ea-74863eb292b8"
      },
      "source": [
        "df = pd.DataFrame({'c1': [1, 2], 'c2': [3, 4],\n",
        "                   'c3': [5, 6]}, index=['r1', 'r2'])\n",
        "col1 = df['c1']\n",
        "# Newline for separating print statements\n",
        "#print(df)\n",
        "print('{}\\n'.format(col1))\n",
        "\n",
        "col1_df = df[['c2']]\n",
        "print('{}\\n'.format(col1_df))\n",
        "\n",
        "col23 = df[['c2', 'c3']]\n",
        "print('{}\\n'.format(col23))"
      ],
      "execution_count": 3,
      "outputs": [
        {
          "output_type": "stream",
          "text": [
            "r1    1\n",
            "r2    2\n",
            "Name: c1, dtype: int64\n",
            "\n",
            "    c2\n",
            "r1   3\n",
            "r2   4\n",
            "\n",
            "    c2  c3\n",
            "r1   3   5\n",
            "r2   4   6\n",
            "\n"
          ],
          "name": "stdout"
        }
      ]
    },
    {
      "cell_type": "markdown",
      "metadata": {
        "id": "G6edfSTTHgyA"
      },
      "source": [
        "The code below shows how to directly index into a DataFrame's rows."
      ]
    },
    {
      "cell_type": "code",
      "metadata": {
        "colab": {
          "base_uri": "https://localhost:8080/"
        },
        "id": "cQNjCwghHifZ",
        "outputId": "97582364-3d89-4606-b937-0b197f2bbc4a"
      },
      "source": [
        "df = pd.DataFrame({'c1': [1, 2, 3], 'c2': [4, 5, 6],\n",
        "                   'c3': [7, 8, 9]}, index=['r1', 'r2', 'r3'])\n",
        "\n",
        "print('{}\\n'.format(df))\n",
        "\n",
        "first_two_rows = df[0:2]\n",
        "print('{}\\n'.format(first_two_rows))\n",
        "\n",
        "last_two_rows = df['r2':'r3']\n",
        "print('{}\\n'.format(last_two_rows))\n",
        "\n",
        "# Results in KeyError\n",
        "print(df['r1':])"
      ],
      "execution_count": 5,
      "outputs": [
        {
          "output_type": "stream",
          "text": [
            "    c1  c2  c3\n",
            "r1   1   4   7\n",
            "r2   2   5   8\n",
            "r3   3   6   9\n",
            "\n",
            "    c1  c2  c3\n",
            "r1   1   4   7\n",
            "r2   2   5   8\n",
            "\n",
            "    c1  c2  c3\n",
            "r2   2   5   8\n",
            "r3   3   6   9\n",
            "\n",
            "    c1  c2  c3\n",
            "r1   1   4   7\n",
            "r2   2   5   8\n",
            "r3   3   6   9\n"
          ],
          "name": "stdout"
        }
      ]
    },
    {
      "cell_type": "markdown",
      "metadata": {
        "id": "9zZcSAUWMIqY"
      },
      "source": [
        "**iloc**\n",
        "\n",
        "We use iloc to access rows based on their integer index. Using iloc we can access a single row as a Series, and specify particular rows to access through a list of integers or a boolean array."
      ]
    },
    {
      "cell_type": "code",
      "metadata": {
        "colab": {
          "base_uri": "https://localhost:8080/"
        },
        "id": "_CdVPRg3MO1E",
        "outputId": "a2a53443-43ff-4059-8136-a6d78f21e208"
      },
      "source": [
        "df = pd.DataFrame({'c1': [1, 2, 3], 'c2': [4, 5, 6],\n",
        "                   'c3': [7, 8, 9]}, index=['r1', 'r2', 'r3'])\n",
        "                   \n",
        "print('{}\\n'.format(df))\n",
        "\n",
        "print('{}\\n'.format(df.iloc[1]))\n",
        "\n",
        "print('{}\\n'.format(df.iloc[[0, 2]]))\n",
        "\n",
        "bool_list = [False, True, True]\n",
        "print('{}\\n'.format(df.iloc[bool_list]))"
      ],
      "execution_count": 6,
      "outputs": [
        {
          "output_type": "stream",
          "text": [
            "    c1  c2  c3\n",
            "r1   1   4   7\n",
            "r2   2   5   8\n",
            "r3   3   6   9\n",
            "\n",
            "c1    2\n",
            "c2    5\n",
            "c3    8\n",
            "Name: r2, dtype: int64\n",
            "\n",
            "    c1  c2  c3\n",
            "r1   1   4   7\n",
            "r3   3   6   9\n",
            "\n",
            "    c1  c2  c3\n",
            "r2   2   5   8\n",
            "r3   3   6   9\n",
            "\n"
          ],
          "name": "stdout"
        }
      ]
    },
    {
      "cell_type": "markdown",
      "metadata": {
        "id": "xFkUEz0NNkb2"
      },
      "source": [
        "# Loc\n",
        "The loc property provides the same row indexing functionality as iloc, but uses row labels rather than integer indexes. Furthermore, with loc we can perform column indexing along with row indexing, and set new values in a DataFrame for specific rows and columns"
      ]
    },
    {
      "cell_type": "code",
      "metadata": {
        "colab": {
          "base_uri": "https://localhost:8080/"
        },
        "id": "giN-kvrMNpuV",
        "outputId": "0584fce0-6e52-478c-fedd-d450b9af4006"
      },
      "source": [
        "df = pd.DataFrame({'c1': [1, 2, 3], 'c2': [4, 5, 6],\n",
        "                   'c3': [7, 8, 9]}, index=['r1', 'r2', 'r3'])\n",
        "                   \n",
        "print('{}\\n'.format(df))\n",
        "\n",
        "print('{}\\n'.format(df.loc['r2']))\n",
        "\n",
        "bool_list = [False, True, True]\n",
        "print('{}\\n'.format(df.loc[bool_list]))\n",
        "\n",
        "single_val = df.loc['r1', 'c2']\n",
        "print('Single val: {}\\n'.format(single_val))\n",
        "\n",
        "print('{}\\n'.format(df.loc[['r1', 'r3'], 'c2']))\n",
        "\n",
        "df.loc[['r1', 'r3'], 'c2'] = 0\n",
        "print('{}\\n'.format(df))"
      ],
      "execution_count": 7,
      "outputs": [
        {
          "output_type": "stream",
          "text": [
            "    c1  c2  c3\n",
            "r1   1   4   7\n",
            "r2   2   5   8\n",
            "r3   3   6   9\n",
            "\n",
            "c1    2\n",
            "c2    5\n",
            "c3    8\n",
            "Name: r2, dtype: int64\n",
            "\n",
            "    c1  c2  c3\n",
            "r2   2   5   8\n",
            "r3   3   6   9\n",
            "\n",
            "Single val: 4\n",
            "\n",
            "r1    4\n",
            "r3    6\n",
            "Name: c2, dtype: int64\n",
            "\n",
            "    c1  c2  c3\n",
            "r1   1   0   7\n",
            "r2   2   5   8\n",
            "r3   3   0   9\n",
            "\n"
          ],
          "name": "stdout"
        }
      ]
    },
    {
      "cell_type": "markdown",
      "metadata": {
        "id": "vFWdQ8a8QGiS"
      },
      "source": [
        "#csv\n",
        "\n",
        "pd.read_csv returns a DataFrame with integer indexes as row labels, and each comma-separated column name as the column labels.\n",
        "\n",
        "However, when we set the index_col keyword argument, we specify which column we want to use as the row labels. In our example, we used the first and second column as row labels\n",
        "\n",
        "# data.csv contains baseball data\n",
        "df = pd.read_csv('data.csv')\n",
        "# Newline to separate print statements\n",
        "print('{}\\n'.format(df))\n",
        "\n",
        "df = pd.read_csv('data.csv', index_col=0)//0 th col will be used as label(index)\n",
        "print('{}\\n'.format(df))\n",
        "\n",
        "df = pd.read_csv('data.csv', index_col=1)\n",
        "print('{}\\n'.format(df))\n",
        "\n",
        "O/p\n",
        "\n",
        "         name pos\n",
        "HR               \n",
        "17  joe smith  2B\n",
        "28  alan west   C\n",
        "19   john doe   P\n",
        "\n",
        "           HR pos\n",
        "name             \n",
        "joe smith  17  2B\n",
        "alan west  28   C\n",
        "john doe   19   P\n"
      ]
    },
    {
      "cell_type": "markdown",
      "metadata": {
        "id": "MH0XjcNaTiPg"
      },
      "source": [
        "**CSV**\n",
        "\n",
        "Note that when we don't use any keyword arguments, to_csv will write the row labels as the first column in the CSV file. This is fine if the row labels are meaningful, but if they are just integers we don't really want them in the CSV file. In that case, we set index=False, to specify that we don't write the row labels into the CSV file."
      ]
    },
    {
      "cell_type": "code",
      "metadata": {
        "id": "uMZILH4qQa25"
      },
      "source": [
        "# Predefined mlb_df\n",
        "print('{}\\n'.format(mlb_df))\n",
        "\n",
        "# Index is kept when writing\n",
        "mlb_df.to_csv('data.csv')\n",
        "df = pd.read_csv('data.csv')\n",
        "print('{}\\n'.format(df))\n",
        "\n",
        "# Index is not kept when writing\n",
        "mlb_df.to_csv('data.csv', index=False)\n",
        "df = pd.read_csv('data.csv')\n",
        "print('{}\\n'.format(df))"
      ],
      "execution_count": null,
      "outputs": []
    },
    {
      "cell_type": "markdown",
      "metadata": {
        "id": "HR07ZP8ATpUw"
      },
      "source": [
        "**Excel**\n",
        "\n",
        "The basic to_excel function will only write a single DataFrame to a spreadsheet. However, if we want to write multiple spreadsheets in an Excel workbook, we first load the Excel file into a pd.ExcelWriter then use the ExcelWriter as the first argument to to_excel.\n",
        "\n",
        "When we don't specify the sheet_name keyword argument, the Excel spreadsheet we write to is named 'Sheet1'. We can pass in custom names into sheet_name to avoid constantly writing to 'Sheet1'."
      ]
    },
    {
      "cell_type": "code",
      "metadata": {
        "id": "yqing-QGThFp"
      },
      "source": [
        "# Predefined DataFrames\n",
        "print('{}\\n'.format(mlb_df1))\n",
        "print('{}\\n'.format(mlb_df2))\n",
        "\n",
        "with pd.ExcelWriter('data.xlsx') as writer:\n",
        "  mlb_df1.to_excel(writer, index=False, sheet_name='NYY')\n",
        "  mlb_df2.to_excel(writer, index=False, sheet_name='BOS')\n",
        "  \n",
        "df_dict = pd.read_excel('data.xlsx', sheet_name=None)\n",
        "print(df_dict.keys())\n",
        "print('{}\\n'.format(df_dict['BOS']))"
      ],
      "execution_count": null,
      "outputs": []
    },
    {
      "cell_type": "markdown",
      "metadata": {
        "id": "H-VQo-FGT1QN"
      },
      "source": [
        "**JSON**\n",
        "\n",
        "The to_json function also uses the orient keyword argument that was part of pd.read_json. Like in pd.read_json, setting orient='index' will set the outer keys of the JSON data to the row labels and the inner keys to the column labels."
      ]
    },
    {
      "cell_type": "code",
      "metadata": {
        "id": "HEVq9jB0Tz4B"
      },
      "source": [
        "# Predefined df\n",
        "print('{}\\n'.format(df))\n",
        "\n",
        "df.to_json('data.json')\n",
        "df2 = pd.read_json('data.json')\n",
        "print('{}\\n'.format(df2))\n",
        "\n",
        "df.to_json('data.json', orient='index')\n",
        "df2 = pd.read_json('data.json')\n",
        "print('{}\\n'.format(df2))\n",
        "df2 = pd.read_json('data.json', orient='index')\n",
        "print('{}\\n'.format(df2))"
      ],
      "execution_count": null,
      "outputs": []
    }
  ]
}